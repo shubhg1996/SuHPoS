{
 "cells": [
  {
   "cell_type": "code",
   "execution_count": 1,
   "metadata": {
    "collapsed": true
   },
   "outputs": [],
   "source": [
    "from __future__ import division, print_function, unicode_literals\n",
    "import numpy as np\n",
    "import argparse\n",
    "import os\n",
    "import os.path as osp\n",
    "import tqdm\n",
    "import torch\n",
    "import torch.utils.data\n",
    "import torchvision.models as models\n",
    "import torchvision.transforms as transforms\n",
    "import glob\n",
    "import torchvision\n",
    "import PIL.Image\n",
    "from torch.autograd import Variable\n",
    "import torch.nn.functional as F\n",
    "import torch.nn as nn\n",
    "import scipy.misc\n",
    "import scipy.io as sio\n",
    "%matplotlib inline\n",
    "import matplotlib.pyplot as plt"
   ]
  },
  {
   "cell_type": "code",
   "execution_count": 2,
   "metadata": {
    "collapsed": true
   },
   "outputs": [],
   "source": [
    "# HYPERPARAMS\n",
    "max_iteration=100000\n",
    "lr=1.0e-14\n",
    "momentum=0.99\n",
    "weight_decay=0.0005\n",
    "interval_validate=4000\n",
    "batch_size = 10"
   ]
  },
  {
   "cell_type": "code",
   "execution_count": 3,
   "metadata": {
    "collapsed": true
   },
   "outputs": [],
   "source": [
    "torch.cuda.set_device(1)\n",
    "cuda = torch.cuda.is_available()\n",
    "\n",
    "# to reproduce same results\n",
    "torch.manual_seed(1337)\n",
    "if cuda:\n",
    "    torch.cuda.manual_seed(1337)"
   ]
  },
  {
   "cell_type": "code",
   "execution_count": 4,
   "metadata": {
    "collapsed": true
   },
   "outputs": [],
   "source": [
    "def genmatdemo(path,segment):\n",
    "    W,H = segment.size\n",
    "    segment = np.array(segment.getdata()).reshape(H,W)\n",
    "#     print(segment.shape)\n",
    "    mat = sio.loadmat(path)\n",
    "    #ADD A POSE FOR HIP CENTER? OR HEURISTIC ON SEGMENT BOUNDS\n",
    "    limbs = [[0,1],[1,2],[2,3],[3,4],[1,5],[5,6],[6,7],[1,8],[8,9],[9,10],[1,11],[11,12],[12,13]]\n",
    "    out = np.zeros((14,H,W))\n",
    "#     print(out[0].shape)\n",
    "    pafx = np.zeros((H,W))\n",
    "#     print(pafx.shape)\n",
    "    pafy = np.zeros((H,W))\n",
    "    x, y = np.meshgrid(np.arange(W), np.arange(H))\n",
    "#     y = np.flipud(y)\n",
    "#     print(x.shape)\n",
    "    for human in mat['joints'][0]:\n",
    "        poselist = np.around(human[:,:-1]).astype(np.int64)\n",
    "        vis = human[:,2]\n",
    "        #PAF GT\n",
    "        for limb in limbs:\n",
    "            p1 = poselist[limb[0],:]\n",
    "            p2 = poselist[limb[1],:]\n",
    "            dvec = (p2-p1)/np.linalg.norm(p2-p1)\n",
    "            if not (vis[limb[0]]==0 or vis[limb[1]]==0):\n",
    "#             if (np.all(p1>0) and np.all(p2>0)):\n",
    "                #APPROX RECON\n",
    "                vecx = x - p1[0]\n",
    "                vecy = y - p1[1]\n",
    "                dot = vecx*dvec[0] + vecy*dvec[1]\n",
    "                perp2 = vecx**2+vecy**2-dot**2\n",
    "                boolmat = (dot>0) & (dot<np.linalg.norm(p2-p1)) & (perp2<np.linalg.norm(p2-p1)*0.3) #sigma^2\n",
    "                pafx[boolmat] = 255*dvec[0]\n",
    "                pafy[boolmat] = 255*dvec[1]\n",
    "#             else:\n",
    "#                 mp = np.around((p1+p2)/2.0).astype(np.uint8)\n",
    "#                 midval = segment[mp[1],mp[0]]\n",
    "#                 pafx[segment==midval] = dvec[0]\n",
    "#                 pafy[segment==midval] = dvec[1]\n",
    "        #POSE GT\n",
    "        for (i,pose) in enumerate(poselist):\n",
    "            tmp = 255*np.exp(-((x-pose[0])**2 + (y-pose[1])**2)/(2.0*50.0))\n",
    "            out[0] = np.maximum(out[0],tmp)\n",
    "#             print(human[i])\n",
    "        out[0]=np.maximum(out[0],pafx+pafy)\n",
    "    return out,pafx,pafy\n",
    "    "
   ]
  },
  {
   "cell_type": "code",
   "execution_count": 5,
   "metadata": {
    "scrolled": false
   },
   "outputs": [
    {
     "name": "stderr",
     "output_type": "stream",
     "text": [
      "/data/gpu/abhiagwl/miniconda2/envs/abhinav/lib/python2.7/site-packages/ipykernel_launcher.py:23: RuntimeWarning: invalid value encountered in true_divide\n"
     ]
    },
    {
     "data": {
      "text/plain": [
       "<matplotlib.image.AxesImage at 0x7f4e4d47c550>"
      ]
     },
     "execution_count": 5,
     "metadata": {},
     "output_type": "execute_result"
    },
    {
     "data": {
      "image/png": "[encoded data removed]",
      "text/plain": [
       "<matplotlib.figure.Figure at 0x7f4e51afdb10>"
      ]
     },
     "metadata": {},
     "output_type": "display_data"
    },
    {
     "data": {
      "image/png": "[encoded data removed]",
      "text/plain": [
       "<matplotlib.figure.Figure at 0x7f4e51b06c10>"
      ]
     },
     "metadata": {},
     "output_type": "display_data"
    }
   ],
   "source": [
    "# DEMO\n",
    "segment = PIL.Image.open('/extra_data/ayushya/pascal_data/pascal_data/SegmentationPart/2009_000544.png')\n",
    "out,pafx,pafy = genmatdemo('/extra_data/ayushya/pascal_data/pascal_data/PersonJoints/2009_000544.mat',segment)\n",
    "plt.figure()\n",
    "plt.imshow(out[0])\n",
    "# plt.figure()\n",
    "# plt.imshow(pafx)\n",
    "plt.figure()\n",
    "plt.imshow(segment)"
   ]
  },
  {
   "cell_type": "code",
   "execution_count": 8,
   "metadata": {
    "collapsed": true
   },
   "outputs": [],
   "source": [
    "def genmat(path,segment):\n",
    "    W,H = segment.size\n",
    "    segment = np.array(segment.getdata()).reshape(H,W)\n",
    "#     print(segment.shape)\n",
    "    mat = sio.loadmat(path)\n",
    "    #ADD A POSE FOR HIP CENTER? OR HEURISTIC ON SEGMENT BOUNDS\n",
    "    limbs = [[0,1],[1,2],[2,3],[3,4],[1,5],[5,6],[6,7],[1,8],[8,9],[9,10],[1,11],[11,12],[12,13]]\n",
    "    out = np.zeros((14,H,W))\n",
    "#     print(out[0].shape)\n",
    "    paf = np.zeros((13,2,H,W))\n",
    "#     print(pafx.shape)\n",
    "    x, y = np.meshgrid(np.arange(W), np.arange(H))\n",
    "#     y = np.flipud(y)\n",
    "#     print(x.shape)\n",
    "    for human in mat['joints'][0]:\n",
    "        poselist = np.around(human[:,:-1]).astype(np.int64)\n",
    "        vis = human[:,2]\n",
    "        #PAF GT\n",
    "        for (i,limb) in enumerate(limbs):\n",
    "            p1 = poselist[limb[0],:]\n",
    "            p2 = poselist[limb[1],:]\n",
    "            dvec = (p2-p1)/np.linalg.norm(p2-p1)\n",
    "            if not (vis[limb[0]]==0 or vis[limb[1]]==0):\n",
    "#             if (np.all(p1>0) and np.all(p2>0)):\n",
    "                #APPROX RECON\n",
    "                vecx = x - p1[0]\n",
    "                vecy = y - p1[1]\n",
    "                dot = vecx*dvec[0] + vecy*dvec[1]\n",
    "                perp2 = vecx**2+vecy**2-dot**2\n",
    "                boolmat = (dot>0) & (dot<np.linalg.norm(p2-p1)) & (perp2<np.linalg.norm(p2-p1)*0.3) #sigma^2\n",
    "                paf[i][0][boolmat] = 255*dvec[0]\n",
    "                paf[i][1][boolmat] = 255*dvec[1]\n",
    "#             else:\n",
    "#                 mp = np.around((p1+p2)/2.0).astype(np.uint8)\n",
    "#                 midval = segment[mp[1],mp[0]]\n",
    "#                 pafx[segment==midval] = dvec[0]\n",
    "#                 pafy[segment==midval] = dvec[1]\n",
    "        #POSE GT\n",
    "        for (i,pose) in enumerate(poselist):\n",
    "            tmp = 255*np.exp(-((x-pose[0])**2 + (y-pose[1])**2)/(2.0*50.0))\n",
    "            out[i] = np.maximum(out[i],tmp)\n",
    "#             print(human[i])\n",
    "#         out[0]=np.maximum(out[0],pafx+pafy)\n",
    "    return out,paf\n",
    "    "
   ]
  },
  {
   "cell_type": "code",
   "execution_count": 9,
   "metadata": {
    "scrolled": true
   },
   "outputs": [
    {
     "name": "stdout",
     "output_type": "stream",
     "text": [
      "(13, 2, 500, 375)\n"
     ]
    },
    {
     "name": "stderr",
     "output_type": "stream",
     "text": [
      "/data/gpu/abhiagwl/miniconda2/envs/abhinav/lib/python2.7/site-packages/ipykernel_launcher.py:22: RuntimeWarning: invalid value encountered in true_divide\n"
     ]
    }
   ],
   "source": [
    "# DEMO\n",
    "segment = PIL.Image.open('/extra_data/ayushya/pascal_data/pascal_data/SegmentationPart/2009_000544.png')\n",
    "out,paf = genmat('/extra_data/ayushya/pascal_data/pascal_data/PersonJoints/2009_000544.mat',segment)\n",
    "print(paf.shape)"
   ]
  },
  {
   "cell_type": "code",
   "execution_count": null,
   "metadata": {},
   "outputs": [],
   "source": [
    "from numpy import ma\n",
    "U = pafx[0]\n",
    "V = pafy[0]\n",
    "segment = PIL.Image.open('/extra_data/ayushya/pascal_data/pascal_data/SegmentationPart/2009_000544.png')\n",
    "W,H = segment.size\n",
    "segment = np.array(segment.getdata()).reshape(H,W)\n",
    "X, Y = np.meshgrid(np.arange(U.shape[1]), np.arange(U.shape[0]))\n",
    "# 1\n",
    "plt.figure()\n",
    "plt.imshow(segment, alpha = .5)\n",
    "s = 5\n",
    "Q = plt.quiver(X[::s], Y[::s], U[::s], V[::s], \n",
    "               scale=100, headaxislength=4, alpha=.5, width=0.001, color='r')\n",
    "\n",
    "fig = plt.gcf()\n",
    "fig.set_size_inches(10, 10)"
   ]
  },
  {
   "cell_type": "code",
   "execution_count": 13,
   "metadata": {
    "collapsed": true
   },
   "outputs": [],
   "source": [
    "class CDATA(torch.utils.data.Dataset): # Extend PyTorch's Dataset class\n",
    "    def __init__(self, root_dir, train, transform=None):\n",
    "        if(train):\n",
    "            rfile = root_dir+'pascal_data/pascal_data/train_idnew.txt'\n",
    "        else :\n",
    "            rfile = root_dir+'pascal_data/pascal_data/val_idnew.txt'\n",
    "        ldir = root_dir + 'VOCdevkit/VOC2010/JPEGImages/'\n",
    "        sdir = root_dir + 'pascal_data/pascal_data/SegmentationPart/'\n",
    "        pdir = root_dir + 'pascal_data/pascal_data/PersonJoints/'\n",
    "        self.transform = transform\n",
    "        self.img = []\n",
    "        self.seg = []\n",
    "        self.mat = []\n",
    "        \n",
    "        with open(rfile,'r') as f:\n",
    "            for line in f:\n",
    "                    line = line[:-1]\n",
    "#                     print(line)\n",
    "                    self.img.append(ldir+line+'.jpg')\n",
    "                    self.seg.append(sdir+line+'.png')\n",
    "                    self.mat.append(pdir+line+'.mat')\n",
    "#             PUT DATA IN CORRESPONDING VARS\n",
    "            \n",
    "            \n",
    "#             self.label.append(ord(file_path.split('/')[-2]) - ord('A')) #ord makes A,B,C.. to 0,1,2,.. respectively\n",
    "\n",
    "            \n",
    "    def __len__(self):\n",
    "        # return the size of the dataset (total number of images) as an integer\n",
    "        # this should be rather easy if you created a mapping in __init__\n",
    "        return len(self.img)\n",
    "        \n",
    "    def __getitem__(self, idx):\n",
    "        # idx - the index of the sample requested\n",
    "        #\n",
    "        # Open the image correspoding to idx, apply transforms on it and return a tuple (image, label)\n",
    "        # where label is an integer from 0-9 (since notMNIST has 10 classes)\n",
    "        image = PIL.Image.open(self.img[idx])\n",
    "        segment = PIL.Image.open(self.seg[idx])\n",
    "        poset,paft = genmat(self.mat[idx],segment)\n",
    "        if self.transform is None:\n",
    "            return (image,segment,poset,paft)\n",
    "        else:\n",
    "            img_transformed = self.transform(image)\n",
    "#             RETURN VARS\n",
    "            return (img_transformed,segment,poset,paft)\n"
   ]
  },
  {
   "cell_type": "code",
   "execution_count": 14,
   "metadata": {
    "scrolled": true
   },
   "outputs": [
    {
     "name": "stdout",
     "output_type": "stream",
     "text": [
      "Size of train dataset: 1696\n",
      "Size of test dataset: 1797\n"
     ]
    }
   ],
   "source": [
    "composed_transform = transforms.Compose([transforms.Scale((224,224)),transforms.ToTensor()])\n",
    "train_dataset = CDATA(root_dir='/extra_data/ayushya/', train=True, transform=composed_transform) # Supply proper root_dir\n",
    "test_dataset = CDATA(root_dir='/extra_data/ayushya/', train=False, transform=composed_transform) # Supply proper root_dir\n",
    "\n",
    "print('Size of train dataset: %d' % len(train_dataset))\n",
    "print('Size of test dataset: %d' % len(test_dataset))\n",
    "\n",
    "\n",
    "kwargs = {'num_workers': 4, 'pin_memory': True} if cuda else {}\n",
    "\n",
    "# Create loaders for the dataset\n",
    "train_loader = torch.utils.data.DataLoader(dataset=train_dataset, batch_size=batch_size, shuffle=True, **kwargs)\n",
    "test_loader = torch.utils.data.DataLoader(dataset=test_dataset, batch_size=batch_size, shuffle=False, **kwargs)\n"
   ]
  },
  {
   "cell_type": "code",
   "execution_count": null,
   "metadata": {},
   "outputs": [],
   "source": [
    "class suhpos(nn.Module):\n",
    "    def __init__(self, pretrained_model):\n",
    "        super(suhpos, self).__init__()\n",
    "        self.features = pretrained_model.features\n",
    "        self.poselayer = nn.Sequential(\n",
    "            nn.Conv2d(512, 128, kernel_size=(3, 3), stride=(1, 1), padding=(1, 1)),\n",
    "            nn.ReLU(True),\n",
    "            nn.Conv2d(128, 128, kernel_size=(3, 3), stride=(1, 1), padding=(1, 1)),\n",
    "            nn.ReLU(True),\n",
    "            nn.Conv2d(128, 128, kernel_size=(3, 3), stride=(1, 1), padding=(1, 1)),\n",
    "            nn.ReLU(True),\n",
    "            nn.Conv2d(128, 512, kernel_size=(1, 1), stride=(1, 1)),\n",
    "            nn.ReLU(True),\n",
    "            nn.Conv2d(512, 14, kernel_size=(1, 1), stride=(1, 1)),\n",
    "        )\n",
    "        self.paflayer = nn.Sequential(\n",
    "            nn.Conv2d(512, 128, kernel_size=(3, 3), stride=(1, 1), padding=(1, 1)),\n",
    "            nn.ReLU(True),\n",
    "            nn.Conv2d(128, 128, kernel_size=(3, 3), stride=(1, 1), padding=(1, 1)),\n",
    "            nn.ReLU(True),\n",
    "            nn.Conv2d(128, 128, kernel_size=(3, 3), stride=(1, 1), padding=(1, 1)),\n",
    "            nn.ReLU(True),\n",
    "            nn.Conv2d(128, 512, kernel_size=(1, 1), stride=(1, 1)),\n",
    "            nn.ReLU(True),\n",
    "            nn.Conv2d(512, 13, kernel_size=(1, 1), stride=(1, 1)),\n",
    "        )\n",
    "        self.seglayer = nn.Sequential(\n",
    "            nn.Conv2d(512, 128, kernel_size=(3, 3), stride=(1, 1), padding=(1, 1)),\n",
    "            nn.ReLU(True),\n",
    "            nn.Conv2d(128, 128, kernel_size=(3, 3), stride=(1, 1), padding=(1, 1)),\n",
    "            nn.ReLU(True),\n",
    "            nn.Conv2d(128, 128, kernel_size=(3, 3), stride=(1, 1), padding=(1, 1)),\n",
    "            nn.ReLU(True),\n",
    "            nn.Conv2d(128, 512, kernel_size=(1, 1), stride=(1, 1)),\n",
    "            nn.ReLU(True),\n",
    "            nn.Conv2d(512, 7, kernel_size=(1, 1), stride=(1, 1)),\n",
    "        )\n",
    "\n",
    "    def forward(self, x):\n",
    "        f = self.features(x)\n",
    "        pose = self.poselayer(f)\n",
    "        paf = self.paflayer(f)\n",
    "        seg = self.seglayer(f)\n",
    "        return pose,paf,seg\n"
   ]
  },
  {
   "cell_type": "code",
   "execution_count": null,
   "metadata": {},
   "outputs": [],
   "source": [
    "# MODEL\n",
    "# DEFINE MODEL\n",
    "# model = torchfcn.models.FCN8s(n_class=21)\n",
    "vgg19 = models.vgg19(pretrained=True)\n",
    "model = suhpos(vgg19)\n",
    "print(model)\n",
    "\n",
    "resume = 0\n",
    "\n",
    "start_epoch = 0\n",
    "start_iteration = 0\n",
    "if cuda:\n",
    "    model = model.cuda()\n"
   ]
  },
  {
   "cell_type": "code",
   "execution_count": null,
   "metadata": {
    "collapsed": true
   },
   "outputs": [],
   "source": [
    "# LOSS\n",
    "loss1 = nn.MSELoss()\n",
    "loss2 = nn.MSELoss()\n",
    "\n",
    "def cross_entropy2d(input, target, weight=None, size_average=True):\n",
    "    # input: (n, c, h, w), target: (n, h, w)\n",
    "    n, c, h, w = input.size()\n",
    "    # log_p: (n, c, h, w)\n",
    "    log_p = F.log_softmax(input)\n",
    "    # log_p: (n*h*w, c)\n",
    "#     log_p = log_p.transpose(1, 2).transpose(2, 3).contiguous().view(-1, c)\n",
    "#     log_p = log_p[target.view(n, h, w, 1).repeat(1, 1, 1, c) >= 0]\n",
    "#     log_p = log_p.view(-1, c)\n",
    "    # target: (n*h*w,)\n",
    "#     mask = target >= 0\n",
    "#     target = target[mask]\n",
    "    loss = F.nll_loss(log_p, target, weight=weight, size_average=False)\n",
    "    if size_average:\n",
    "        loss /= mask.data.sum()\n",
    "    return loss\n"
   ]
  },
  {
   "cell_type": "code",
   "execution_count": null,
   "metadata": {
    "collapsed": true
   },
   "outputs": [],
   "source": [
    "# OPTIMIZER\n",
    "optim = torch.optim.SGD(\n",
    "    model.parameters(),\n",
    "    lr=lr,\n",
    "    momentum=momentum,\n",
    "    weight_decay=weight_decay)"
   ]
  },
  {
   "cell_type": "code",
   "execution_count": null,
   "metadata": {
    "collapsed": true
   },
   "outputs": [],
   "source": [
    "# VALIDATION\n",
    "def validate(iteration):\n",
    "        val_loss = 0\n",
    "        label_trues, label_preds = [], []\n",
    "        for batch_idx, (data, target) in tqdm.tqdm(\n",
    "                enumerate(test_loader), total=len(test_loader),\n",
    "                desc='Valid iteration=%d' % iteration, ncols=80,\n",
    "                leave=False):\n",
    "            \n",
    "#             INSERT TARGETS\n",
    "            if self.cuda:\n",
    "                data, target = data.cuda(), target.cuda()\n",
    "            data, target = Variable(data, volatile=True), Variable(target)\n",
    "            score = self.model(data)\n",
    "\n",
    "            loss = cross_entropy2d(score, target)\n",
    "            if np.isnan(float(loss.data[0])):\n",
    "                raise ValueError('loss is nan while validating')\n",
    "            \n",
    "            val_loss += float(loss.data[0]) / len(data)\n",
    "\n",
    "#             imgs = data.data.cpu()\n",
    "#             lbl_pred = score.data.max(1)[1].cpu().numpy()[:, :, :]\n",
    "#             lbl_true = target.data.cpu()\n",
    "                \n",
    "#         SAVE IMAGES        \n",
    "#         out = \"val_out/\"\n",
    "#         if not osp.exists(out):\n",
    "#             os.makedirs(out)\n",
    "#         out_file = osp.join(out, 'iter%.jpg' % iteration)\n",
    "#         scipy.misc.imsave(out_file, image)\n",
    "\n",
    "        val_loss /= len(test_loader)\n",
    "\n",
    "        "
   ]
  },
  {
   "cell_type": "code",
   "execution_count": null,
   "metadata": {
    "collapsed": true
   },
   "outputs": [],
   "source": [
    "# TRAINING\n",
    "def train_model():\n",
    "    max_epoch = int(math.ceil(1. * max_iter / len(train_loader)))\n",
    "    for epoch in tqdm.trange(0, max_epoch,\n",
    "                             desc='Train', ncols=80):\n",
    "#         INSERT TARGETS\n",
    "        for batch_idx, (data, target) in tqdm.tqdm( \n",
    "                enumerate(train_loader), total=len(train_loader),\n",
    "                desc='Train epoch=%d' % epoch, ncols=80, leave=False):\n",
    "            iteration = batch_idx + epoch * len(train_loader)\n",
    "            \n",
    "#             VALIDATE\n",
    "#             if iteration % interval_validate == 0:\n",
    "#                 validate(iteration)\n",
    "\n",
    "#             MODIFY FOR TARGETS\n",
    "            if self.cuda:\n",
    "                data, target = data.cuda(), target.cuda()\n",
    "            data, target = Variable(data), Variable(target)\n",
    "            optim.zero_grad()\n",
    "#             MODIFY FOR OUTPUTS\n",
    "            pose,paf,seg = model(data)\n",
    "\n",
    "            loss = cross_entropy2d(seg, )\n",
    "            loss /= len(data)\n",
    "            if np.isnan(float(loss.data[0])):\n",
    "                raise ValueError('loss is nan while training')\n",
    "            loss.backward()\n",
    "            optim.step()\n",
    "\n",
    "#             METRICS\n",
    "#             metrics = []\n",
    "#             lbl_pred = score.data.max(1)[1].cpu().numpy()[:, :, :]\n",
    "#             lbl_true = target.data.cpu().numpy()\n",
    "#             for lt, lp in zip(lbl_true, lbl_pred):\n",
    "#                 acc, acc_cls, mean_iu, fwavacc = \\\n",
    "#                     torchfcn.utils.label_accuracy_score(\n",
    "#                         [lt], [lp], n_class=n_class)\n",
    "#                 metrics.append((acc, acc_cls, mean_iu, fwavacc))\n",
    "#             metrics = np.mean(metrics, axis=0)\n",
    "\n",
    "            if iteration >= max_iter:\n",
    "                break\n",
    "\n"
   ]
  },
  {
   "cell_type": "code",
   "execution_count": null,
   "metadata": {
    "collapsed": true
   },
   "outputs": [],
   "source": []
  }
 ],
 "metadata": {
  "kernelspec": {
   "display_name": "Python 2",
   "language": "python",
   "name": "python2"
  },
  "language_info": {
   "codemirror_mode": {
    "name": "ipython",
    "version": 2
   },
   "file_extension": ".py",
   "mimetype": "text/x-python",
   "name": "python",
   "nbconvert_exporter": "python",
   "pygments_lexer": "ipython2",
   "version": "2.7.13"
  }
 },
 "nbformat": 4,
 "nbformat_minor": 2
}
