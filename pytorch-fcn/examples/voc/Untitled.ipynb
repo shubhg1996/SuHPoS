{
 "cells": [
  {
   "cell_type": "code",
   "execution_count": 1,
   "metadata": {
    "collapsed": true
   },
   "outputs": [],
   "source": [
    "import pandas as pd\n",
    "import numpy as np"
   ]
  },
  {
   "cell_type": "code",
   "execution_count": 9,
   "metadata": {
    "collapsed": true
   },
   "outputs": [],
   "source": [
    "test_ = pd.read_csv(\"./logs/MODEL-fcn32s_CFG-001_WEIGHT_DECAY-0.0005_LR-1e-10_INTERVAL_VALIDATE-4000_MOMENTUM-0.99_MAX_ITERATION-10000_VCS-479b9e0_TIME-20171103-032159/log.csv\")"
   ]
  },
  {
   "cell_type": "code",
   "execution_count": null,
   "metadata": {
    "collapsed": true
   },
   "outputs": [],
   "source": [
    "m = nn.ConvTranspose2d(16, 33, 3, stride=2)\n",
    "input = autograd.Variable(torch.randn(20, 16, 50, 100))\n",
    "output = m(input)\n",
    "downsample = nn.Conv2d(16, 16, 3, stride=2, padding=1)\n",
    ">>> upsample = nn.ConvTranspose2d(16, 16, 3, stride=2, padding=1)\n",
    ">>> h = downsample(input)\n",
    ">>> h.size()\n",
    "torch.Size([1, 16, 6, 6])\n",
    ">>> output = upsample(h, output_size=input.size())\n",
    ">>> output.size()\n",
    "torch.Size([1, 16, 12, 12])\n"
   ]
  }
 ],
 "metadata": {
  "kernelspec": {
   "display_name": "Python 2",
   "language": "python",
   "name": "python2"
  },
  "language_info": {
   "codemirror_mode": {
    "name": "ipython",
    "version": 2
   },
   "file_extension": ".py",
   "mimetype": "text/x-python",
   "name": "python",
   "nbconvert_exporter": "python",
   "pygments_lexer": "ipython2",
   "version": "2.7.14"
  }
 },
 "nbformat": 4,
 "nbformat_minor": 2
}
